{
 "cells": [
  {
   "cell_type": "code",
   "execution_count": 20,
   "metadata": {
    "ExecuteTime": {
     "end_time": "2019-01-01T16:08:43.267986Z",
     "start_time": "2019-01-01T16:08:43.253767Z"
    }
   },
   "outputs": [],
   "source": [
    "import numpy as np\n",
    "import pandas as pd\n",
    "from sklearn import preprocessing\n",
    "from collections import deque\n",
    "import random\n",
    "import time\n",
    "from keras.models import Sequential\n",
    "from keras.layers import CuDNNLSTM, Dense, Dropout, BatchNormalization, LSTM\n",
    "from keras.callbacks import TensorBoard, ModelCheckpoint\n",
    "import tensorflow as tf\n",
    "from keras.optimizers import Adam"
   ]
  },
  {
   "cell_type": "code",
   "execution_count": 30,
   "metadata": {
    "ExecuteTime": {
     "end_time": "2019-01-01T16:09:56.476673Z",
     "start_time": "2019-01-01T16:09:56.466727Z"
    }
   },
   "outputs": [],
   "source": [
    "SEQ_LEN = 60\n",
    "FUTURE_PERIOD_PREDICT = 3\n",
    "RATIO_TO_PREDICT = 'bitcoin'\n",
    "EPOCHS = 100\n",
    "BATCH_SIZE = 64\n",
    "NAME = RATIO_TO_PREDICT + '-' + str(SEQ_LEN) + \"-SEQ-\" + str(FUTURE_PERIOD_PREDICT) + \"-PRED-\" + str(int(time.time()))"
   ]
  },
  {
   "cell_type": "code",
   "execution_count": 22,
   "metadata": {
    "ExecuteTime": {
     "end_time": "2019-01-01T16:08:45.118604Z",
     "start_time": "2019-01-01T16:08:45.114550Z"
    }
   },
   "outputs": [],
   "source": [
    "main_df = pd.DataFrame()\n",
    "\n",
    "ratios = ['stratis', 'monero', 'waves', 'bitcoin', 'litecoin',\n",
    "          'numeraire', 'dash', 'omisego', 'bitcoin_cash', 'ethereum_classic',\n",
    "          'ripple', 'ethereum', 'bitconnect', 'nem', 'iota', 'neo',\n",
    "          'qtum']"
   ]
  },
  {
   "cell_type": "code",
   "execution_count": 23,
   "metadata": {
    "ExecuteTime": {
     "end_time": "2019-01-01T16:08:45.804559Z",
     "start_time": "2019-01-01T16:08:45.632397Z"
    }
   },
   "outputs": [],
   "source": [
    "for ratio in ratios:\n",
    "    dataset = \"dataset/\" + ratio + '_price' + \".csv\"\n",
    "    \n",
    "    df = pd.read_csv(dataset)\n",
    "    \n",
    "    df.rename(columns={'Close': ratio + '_Close', 'Volume': ratio + '_Volume'}, inplace=True)\n",
    "    \n",
    "    df.set_index('Date', inplace=True)\n",
    "    df = df[[ratio + '_Close', ratio + '_Volume']]\n",
    "    \n",
    "    if len(main_df) == 0:\n",
    "        main_df = df\n",
    "    else:\n",
    "        main_df = main_df.join(df)"
   ]
  },
  {
   "cell_type": "code",
   "execution_count": 24,
   "metadata": {
    "ExecuteTime": {
     "end_time": "2019-01-01T16:09:03.899968Z",
     "start_time": "2019-01-01T16:09:03.897139Z"
    }
   },
   "outputs": [],
   "source": [
    "# main_df = pd.DataFrame() # begin empty\n",
    "\n",
    "# ratios = [\"BTC-USD\", \"LTC-USD\", \"BCH-USD\", \"ETH-USD\"] "
   ]
  },
  {
   "cell_type": "code",
   "execution_count": 25,
   "metadata": {
    "ExecuteTime": {
     "end_time": "2019-01-01T16:09:04.661438Z",
     "start_time": "2019-01-01T16:09:04.652872Z"
    }
   },
   "outputs": [],
   "source": [
    "# for ratio in ratios:\n",
    "#     dataset = \"dataset2/\" + ratio + \".csv\"\n",
    "    \n",
    "#     df = pd.read_csv(dataset, names=['time', 'low', 'high', 'open', 'Close', 'Volume'])\n",
    "    \n",
    "#     df.rename(columns={'Close': ratio + '_Close', 'Volume': ratio + '_Volume'}, inplace=True)\n",
    "    \n",
    "#     df.set_index('time', inplace=True)\n",
    "#     df = df[[ratio + '_Close', ratio + '_Volume']]\n",
    "    \n",
    "#     if len(main_df) == 0:\n",
    "#         main_df = df\n",
    "#     else:\n",
    "#         main_df = main_df.join(df)"
   ]
  },
  {
   "cell_type": "code",
   "execution_count": 26,
   "metadata": {
    "ExecuteTime": {
     "end_time": "2019-01-01T16:09:05.444424Z",
     "start_time": "2019-01-01T16:09:05.382545Z"
    },
    "scrolled": true
   },
   "outputs": [
    {
     "name": "stdout",
     "output_type": "stream",
     "text": [
      "           stratis_Close  stratis_Volume  monero_Close  monero_Volume  \\\n",
      "Date                                                                    \n",
      "20-Feb-18           9.13        21055000        304.40       71114700   \n",
      "19-Feb-18           9.95        22415800        316.49       67482400   \n",
      "18-Feb-18           9.26        14139400        300.12       68135100   \n",
      "17-Feb-18           9.76        19415600        325.67      134269000   \n",
      "16-Feb-18           9.56        14430300        296.48       64320200   \n",
      "\n",
      "           waves_Close  waves_Volume  bitcoin_Close bitcoin_Volume  \\\n",
      "Date                                                                 \n",
      "20-Feb-18         8.03      46087500        11403.7     1336605408   \n",
      "19-Feb-18         8.10      37813100        11225.3     -937844592   \n",
      "18-Feb-18         7.54      40081300        10551.8      154075408   \n",
      "17-Feb-18         7.84      34458200        11112.7       70945408   \n",
      "16-Feb-18         7.90      44143700        10233.9    -1293774592   \n",
      "\n",
      "           litecoin_Close litecoin_Volume     ...       bitconnect_Close  \\\n",
      "Date                                          ...                          \n",
      "20-Feb-18          232.85      1739670000     ...                   3.52   \n",
      "19-Feb-18          223.06       767597000     ...                   3.95   \n",
      "18-Feb-18          215.74      1011120000     ...                   3.70   \n",
      "17-Feb-18          229.47       863401000     ...                   4.31   \n",
      "16-Feb-18          230.12      1300090000     ...                   4.13   \n",
      "\n",
      "           bitconnect_Volume  nem_Close  nem_Volume  iota_Close  iota_Volume  \\\n",
      "Date                                                                           \n",
      "20-Feb-18           157912.0   0.484397    66039700        1.91   49930400.0   \n",
      "19-Feb-18           108297.0   0.529261    91007400        2.09   32581400.0   \n",
      "18-Feb-18           150823.0   0.530407    95781300        1.98   43653800.0   \n",
      "17-Feb-18           185105.0   0.598880   147788000        2.20   42149700.0   \n",
      "16-Feb-18           149639.0   0.568887    90028500        2.10   44770200.0   \n",
      "\n",
      "           neo_Close   neo_Volume  qtum_Close  qtum_Volume  \n",
      "Date                                                        \n",
      "20-Feb-18     128.36  239238000.0       31.11  203359000.0  \n",
      "19-Feb-18     137.47  201551000.0       32.66  197224000.0  \n",
      "18-Feb-18     127.38  207624000.0       31.24  181070000.0  \n",
      "17-Feb-18     136.75  286385000.0       33.56  178525000.0  \n",
      "16-Feb-18     128.85  194878000.0       33.02  166522000.0  \n",
      "\n",
      "[5 rows x 34 columns]\n"
     ]
    }
   ],
   "source": [
    "print(main_df.head())"
   ]
  },
  {
   "cell_type": "code",
   "execution_count": 27,
   "metadata": {
    "ExecuteTime": {
     "end_time": "2019-01-01T16:09:07.857637Z",
     "start_time": "2019-01-01T16:09:07.853789Z"
    }
   },
   "outputs": [
    {
     "name": "stdout",
     "output_type": "stream",
     "text": [
      "Index(['stratis_Close', 'stratis_Volume', 'monero_Close', 'monero_Volume',\n",
      "       'waves_Close', 'waves_Volume', 'bitcoin_Close', 'bitcoin_Volume',\n",
      "       'litecoin_Close', 'litecoin_Volume', 'numeraire_Close',\n",
      "       'numeraire_Volume', 'dash_Close', 'dash_Volume', 'omisego_Close',\n",
      "       'omisego_Volume', 'bitcoin_cash_Close', 'bitcoin_cash_Volume',\n",
      "       'ethereum_classic_Close', 'ethereum_classic_Volume', 'ripple_Close',\n",
      "       'ripple_Volume', 'ethereum_Close', 'ethereum_Volume',\n",
      "       'bitconnect_Close', 'bitconnect_Volume', 'nem_Close', 'nem_Volume',\n",
      "       'iota_Close', 'iota_Volume', 'neo_Close', 'neo_Volume', 'qtum_Close',\n",
      "       'qtum_Volume'],\n",
      "      dtype='object')\n"
     ]
    }
   ],
   "source": [
    "print(main_df.columns)"
   ]
  },
  {
   "cell_type": "code",
   "execution_count": 28,
   "metadata": {
    "ExecuteTime": {
     "end_time": "2019-01-01T16:09:09.993108Z",
     "start_time": "2019-01-01T16:09:09.990372Z"
    }
   },
   "outputs": [],
   "source": [
    "def classify(current, future):\n",
    "    if float(future) > float(current):\n",
    "        return 1\n",
    "    else:\n",
    "        return 0"
   ]
  },
  {
   "cell_type": "code",
   "execution_count": 31,
   "metadata": {
    "ExecuteTime": {
     "end_time": "2019-01-01T16:10:02.189120Z",
     "start_time": "2019-01-01T16:10:02.144386Z"
    }
   },
   "outputs": [
    {
     "name": "stdout",
     "output_type": "stream",
     "text": [
      "           stratis_Close  stratis_Volume  monero_Close  monero_Volume  \\\n",
      "Date                                                                    \n",
      "20-Feb-18           9.13        21055000        304.40       71114700   \n",
      "19-Feb-18           9.95        22415800        316.49       67482400   \n",
      "18-Feb-18           9.26        14139400        300.12       68135100   \n",
      "17-Feb-18           9.76        19415600        325.67      134269000   \n",
      "16-Feb-18           9.56        14430300        296.48       64320200   \n",
      "\n",
      "           waves_Close  waves_Volume  bitcoin_Close bitcoin_Volume  \\\n",
      "Date                                                                 \n",
      "20-Feb-18         8.03      46087500        11403.7     1336605408   \n",
      "19-Feb-18         8.10      37813100        11225.3     -937844592   \n",
      "18-Feb-18         7.54      40081300        10551.8      154075408   \n",
      "17-Feb-18         7.84      34458200        11112.7       70945408   \n",
      "16-Feb-18         7.90      44143700        10233.9    -1293774592   \n",
      "\n",
      "           litecoin_Close litecoin_Volume    ...     bitconnect_Volume  \\\n",
      "Date                                         ...                         \n",
      "20-Feb-18          232.85      1739670000    ...              157912.0   \n",
      "19-Feb-18          223.06       767597000    ...              108297.0   \n",
      "18-Feb-18          215.74      1011120000    ...              150823.0   \n",
      "17-Feb-18          229.47       863401000    ...              185105.0   \n",
      "16-Feb-18          230.12      1300090000    ...              149639.0   \n",
      "\n",
      "           nem_Close  nem_Volume  iota_Close  iota_Volume  neo_Close  \\\n",
      "Date                                                                   \n",
      "20-Feb-18   0.484397    66039700        1.91   49930400.0     128.36   \n",
      "19-Feb-18   0.529261    91007400        2.09   32581400.0     137.47   \n",
      "18-Feb-18   0.530407    95781300        1.98   43653800.0     127.38   \n",
      "17-Feb-18   0.598880   147788000        2.20   42149700.0     136.75   \n",
      "16-Feb-18   0.568887    90028500        2.10   44770200.0     128.85   \n",
      "\n",
      "            neo_Volume  qtum_Close  qtum_Volume    future  \n",
      "Date                                                       \n",
      "20-Feb-18  239238000.0       31.11  203359000.0  11112.70  \n",
      "19-Feb-18  201551000.0       32.66  197224000.0  10233.90  \n",
      "18-Feb-18  207624000.0       31.24  181070000.0  10166.40  \n",
      "17-Feb-18  286385000.0       33.56  178525000.0   9494.63  \n",
      "16-Feb-18  194878000.0       33.02  166522000.0   8598.31  \n",
      "\n",
      "[5 rows x 35 columns]\n"
     ]
    }
   ],
   "source": [
    "main_df['future'] = main_df[RATIO_TO_PREDICT + '_Close'].shift(- FUTURE_PERIOD_PREDICT)\n",
    "print(main_df.head())"
   ]
  },
  {
   "cell_type": "code",
   "execution_count": 11,
   "metadata": {
    "ExecuteTime": {
     "end_time": "2019-01-01T16:05:35.679978Z",
     "start_time": "2019-01-01T16:05:35.587743Z"
    }
   },
   "outputs": [
    {
     "name": "stdout",
     "output_type": "stream",
     "text": [
      "            ETH-USD_Close     future\n",
      "time                                \n",
      "1528968660            NaN  485.75000\n",
      "1528968720      486.01001  486.00000\n",
      "1528968780      486.00000  486.00000\n",
      "1528968840      485.75000  485.98999\n",
      "1528968900      486.00000  485.98999\n"
     ]
    }
   ],
   "source": [
    "print(main_df[[RATIO_TO_PREDICT + '_Close', 'future']].head())"
   ]
  },
  {
   "cell_type": "code",
   "execution_count": 32,
   "metadata": {
    "ExecuteTime": {
     "end_time": "2019-01-01T16:10:07.190640Z",
     "start_time": "2019-01-01T16:10:07.186619Z"
    }
   },
   "outputs": [],
   "source": [
    "main_df['target'] = list(map(classify, main_df[RATIO_TO_PREDICT + '_Close'], main_df['future']))"
   ]
  },
  {
   "cell_type": "code",
   "execution_count": 33,
   "metadata": {
    "ExecuteTime": {
     "end_time": "2019-01-01T16:10:11.512741Z",
     "start_time": "2019-01-01T16:10:11.502863Z"
    }
   },
   "outputs": [
    {
     "name": "stdout",
     "output_type": "stream",
     "text": [
      "           bitcoin_Close    future  target\n",
      "Date                                      \n",
      "20-Feb-18       11403.70  11112.70       0\n",
      "19-Feb-18       11225.30  10233.90       0\n",
      "18-Feb-18       10551.80  10166.40       0\n",
      "17-Feb-18       11112.70   9494.63       0\n",
      "16-Feb-18       10233.90   8598.31       0\n",
      "15-Feb-18       10166.40   8926.57       0\n",
      "14-Feb-18        9494.63   8129.97       0\n",
      "13-Feb-18        8598.31   8621.90       1\n",
      "12-Feb-18        8926.57   8736.98       0\n",
      "11-Feb-18        8129.97   8265.59       1\n",
      "10-Feb-18        8621.90   7621.30       0\n",
      "09-Feb-18        8736.98   7754.00       0\n",
      "08-Feb-18        8265.59   6955.27       0\n",
      "07-Feb-18        7621.30   8277.01       1\n",
      "06-Feb-18        7754.00   9174.91       1\n",
      "05-Feb-18        6955.27   8830.75       1\n",
      "04-Feb-18        8277.01   9170.54       1\n",
      "03-Feb-18        9174.91  10221.10       1\n",
      "02-Feb-18        8830.75  10106.30       1\n",
      "01-Feb-18        9170.54  11296.40       1\n"
     ]
    }
   ],
   "source": [
    "print(main_df[[RATIO_TO_PREDICT + '_Close', 'future', 'target']].head(20))"
   ]
  },
  {
   "cell_type": "code",
   "execution_count": 34,
   "metadata": {
    "ExecuteTime": {
     "end_time": "2019-01-01T16:10:15.077757Z",
     "start_time": "2019-01-01T16:10:15.073201Z"
    }
   },
   "outputs": [],
   "source": [
    "times = sorted(main_df.index.values)\n",
    "last_5_pct = times[-int(0.05 * len(times))]"
   ]
  },
  {
   "cell_type": "code",
   "execution_count": 35,
   "metadata": {
    "ExecuteTime": {
     "end_time": "2019-01-01T16:10:15.661641Z",
     "start_time": "2019-01-01T16:10:15.644780Z"
    }
   },
   "outputs": [],
   "source": [
    "validation_main_df = main_df[(main_df.index >= last_5_pct)]\n",
    "main_df = main_df[(main_df.index < last_5_pct)]"
   ]
  },
  {
   "cell_type": "code",
   "execution_count": 36,
   "metadata": {
    "ExecuteTime": {
     "end_time": "2019-01-01T16:10:17.218350Z",
     "start_time": "2019-01-01T16:10:17.212131Z"
    }
   },
   "outputs": [],
   "source": [
    "def preprocess_df(df):\n",
    "    df = df.drop('future', 1)\n",
    "    \n",
    "    for col in df.columns:\n",
    "        if col != 'target':\n",
    "            df[col] = df[col].replace(',','').astype(float).pct_change()\n",
    "            df.dropna(inplace = True)\n",
    "            \n",
    "            df[col] = preprocessing.scale(df[col].values)\n",
    "            \n",
    "    df.dropna(inplace = True)\n",
    "    \n",
    "    sequential_data = []\n",
    "    prev_days = deque(maxlen = SEQ_LEN)\n",
    "    \n",
    "    for i in df.values:\n",
    "        prev_days.append([n for n in i[:-1]])\n",
    "        if len(prev_days) == SEQ_LEN:\n",
    "            sequential_data.append([np.array(prev_days), i[-1]])\n",
    "    \n",
    "    random.shuffle(sequential_data)\n",
    "    \n",
    "    buys = []\n",
    "    sells = []\n",
    "    \n",
    "    for seq, target in sequential_data:\n",
    "        if target == 0:\n",
    "            sells.append([seq, target])\n",
    "        elif target == 1:\n",
    "            buys.append([seq, target])\n",
    "            \n",
    "    random.shuffle(buys)\n",
    "    random.shuffle(sells)\n",
    "    \n",
    "    lower = min(len(buys), len(sells))\n",
    "    \n",
    "    buys = buys[:lower]\n",
    "    sells = sells[:lower]\n",
    "    \n",
    "    sequential_data = buys + sells\n",
    "    \n",
    "    random.shuffle(sequential_data)\n",
    "    \n",
    "    X = []\n",
    "    y = []\n",
    "    \n",
    "    for seq, target in sequential_data:\n",
    "        X.append(seq)\n",
    "        y.append(target)\n",
    "        \n",
    "    return np.array(X), y"
   ]
  },
  {
   "cell_type": "code",
   "execution_count": 37,
   "metadata": {
    "ExecuteTime": {
     "end_time": "2019-01-01T16:10:18.546108Z",
     "start_time": "2019-01-01T16:10:18.304565Z"
    }
   },
   "outputs": [],
   "source": [
    "train_x, train_y = preprocess_df(main_df)\n",
    "validation_x, validation_y = preprocess_df(main_df)"
   ]
  },
  {
   "cell_type": "code",
   "execution_count": 38,
   "metadata": {
    "ExecuteTime": {
     "end_time": "2019-01-01T16:10:18.741472Z",
     "start_time": "2019-01-01T16:10:18.735062Z"
    }
   },
   "outputs": [
    {
     "name": "stdout",
     "output_type": "stream",
     "text": [
      "Train Data: 86 Validation Data: 86\n",
      "Don't Buys: 43 Buys: 43\n",
      "Validation Don't Buys: 43 Buys: 43\n"
     ]
    }
   ],
   "source": [
    "print(\"Train Data: \" + str(len(train_x)), \"Validation Data: \" + str(len(validation_x)))\n",
    "print(\"Don't Buys: \" + str(train_y.count(0)), \"Buys: \" + str(validation_y.count(1)))\n",
    "print(\"Validation Don't Buys: \" + str(validation_y.count(0)), \"Buys: \" + str(validation_y.count(1)))"
   ]
  },
  {
   "cell_type": "code",
   "execution_count": null,
   "metadata": {
    "ExecuteTime": {
     "end_time": "2019-01-01T16:05:52.258102Z",
     "start_time": "2019-01-01T16:05:46.053390Z"
    },
    "scrolled": true
   },
   "outputs": [],
   "source": [
    "model = Sequential()\n",
    "\n",
    "model.add(CuDNNLSTM(128, input_shape = (train_x.shape[1:]), return_sequences=True))\n",
    "model.add(Dropout(0.2))\n",
    "model.add(BatchNormalization())\n",
    "\n",
    "model.add(CuDNNLSTM(128, input_shape = (train_x.shape[1:]), return_sequences=True))\n",
    "model.add(Dropout(0.2))\n",
    "model.add(BatchNormalization())\n",
    "\n",
    "model.add(CuDNNLSTM(128, input_shape = (train_x.shape[1:])))\n",
    "model.add(Dropout(0.2))\n",
    "model.add(BatchNormalization())\n",
    "\n",
    "model.add(Dense(32, activation='relu'))\n",
    "model.add(Dropout(0.2))\n",
    "\n",
    "model.add(Dense(2, activation='softmax'))\n",
    "\n",
    "opt = Adam(lr=0.001, decay=1e-6)\n",
    "\n",
    "model.compile(loss='sparse_categorical_crossentropy',\n",
    "              optimizer = opt,\n",
    "              metrics = ['accuracy'])\n",
    "\n",
    "tensorboard = TensorBoard(log_dir = 'logs/' + NAME)\n",
    "\n",
    "filepath = 'RNN_Final-{epoch:02d}-{val_acc:.3f}'\n",
    "checkpoint = ModelCheckpoint('models/{}.model'.format(filepath, monitor='val_acc',\n",
    "                                                      verbose=1,\n",
    "                                                      save_best_only = True,\n",
    "                                                      mode = 'max'))\n",
    "\n",
    "history =  model.fit(train_x, train_y,\n",
    "                     batch_size = BATCH_SIZE,\n",
    "                     epochs = EPOCHS,\n",
    "                     validation_data = (validation_x, validation_y),\n",
    "                     callbacks = [tensorboard, checkpoint])"
   ]
  },
  {
   "cell_type": "code",
   "execution_count": null,
   "metadata": {},
   "outputs": [],
   "source": []
  }
 ],
 "metadata": {
  "kernelspec": {
   "display_name": "Python 3",
   "language": "python",
   "name": "python3"
  },
  "language_info": {
   "codemirror_mode": {
    "name": "ipython",
    "version": 3
   },
   "file_extension": ".py",
   "mimetype": "text/x-python",
   "name": "python",
   "nbconvert_exporter": "python",
   "pygments_lexer": "ipython3",
   "version": "3.5.2"
  },
  "varInspector": {
   "cols": {
    "lenName": 16,
    "lenType": 16,
    "lenVar": 40
   },
   "kernels_config": {
    "python": {
     "delete_cmd_postfix": "",
     "delete_cmd_prefix": "del ",
     "library": "var_list.py",
     "varRefreshCmd": "print(var_dic_list())"
    },
    "r": {
     "delete_cmd_postfix": ") ",
     "delete_cmd_prefix": "rm(",
     "library": "var_list.r",
     "varRefreshCmd": "cat(var_dic_list()) "
    }
   },
   "types_to_exclude": [
    "module",
    "function",
    "builtin_function_or_method",
    "instance",
    "_Feature"
   ],
   "window_display": false
  }
 },
 "nbformat": 4,
 "nbformat_minor": 2
}
