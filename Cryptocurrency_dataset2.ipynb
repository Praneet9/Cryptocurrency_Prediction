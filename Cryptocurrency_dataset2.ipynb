{
  "nbformat": 4,
  "nbformat_minor": 0,
  "metadata": {
    "colab": {
      "name": "Cryptocurrency.ipynb",
      "version": "0.3.2",
      "provenance": []
    },
    "kernelspec": {
      "name": "python3",
      "display_name": "Python 3"
    },
    "accelerator": "GPU"
  },
  "cells": [
    {
      "metadata": {
        "id": "UxHd_fXw36IV",
        "colab_type": "code",
        "colab": {
          "base_uri": "https://localhost:8080/",
          "height": 125
        },
        "outputId": "00a867b5-43fe-4230-c389-cde2de203a58"
      },
      "cell_type": "code",
      "source": [
        "!git clone https://github.com/Praneet9/Cryptocurrency_Prediction"
      ],
      "execution_count": 1,
      "outputs": [
        {
          "output_type": "stream",
          "text": [
            "Cloning into 'Cryptocurrency_Prediction'...\n",
            "remote: Enumerating objects: 49, done.\u001b[K\n",
            "remote: Counting objects: 100% (49/49), done.\u001b[K\n",
            "remote: Compressing objects: 100% (42/42), done.\u001b[K\n",
            "remote: Total 49 (delta 7), reused 44 (delta 5), pack-reused 0\u001b[K\n",
            "Unpacking objects: 100% (49/49), done.\n"
          ],
          "name": "stdout"
        }
      ]
    },
    {
      "metadata": {
        "id": "bt4wc4I336Am",
        "colab_type": "code",
        "colab": {
          "base_uri": "https://localhost:8080/",
          "height": 35
        },
        "outputId": "865f8eb6-0c72-4e5e-d674-6b67e2cb8011"
      },
      "cell_type": "code",
      "source": [
        "cd Cryptocurrency_Prediction/"
      ],
      "execution_count": 2,
      "outputs": [
        {
          "output_type": "stream",
          "text": [
            "/content/Cryptocurrency_Prediction\n"
          ],
          "name": "stdout"
        }
      ]
    },
    {
      "metadata": {
        "id": "28gfYf9R36Dl",
        "colab_type": "code",
        "colab": {
          "base_uri": "https://localhost:8080/",
          "height": 35
        },
        "outputId": "0b4a1586-950a-4c33-f143-56869027ed67"
      },
      "cell_type": "code",
      "source": [
        "ls"
      ],
      "execution_count": 3,
      "outputs": [
        {
          "output_type": "stream",
          "text": [
            "Cryptocurrency.ipynb  \u001b[0m\u001b[01;34mdataset\u001b[0m/  \u001b[01;34mdataset2\u001b[0m/  \u001b[01;34mlogs\u001b[0m/  \u001b[01;34mmodels\u001b[0m/  README.md\n"
          ],
          "name": "stdout"
        }
      ]
    },
    {
      "metadata": {
        "ExecuteTime": {
          "end_time": "2019-01-01T16:08:43.267986Z",
          "start_time": "2019-01-01T16:08:43.253767Z"
        },
        "id": "1xCfj6-E3S_V",
        "colab_type": "code",
        "colab": {
          "base_uri": "https://localhost:8080/",
          "height": 35
        },
        "outputId": "25fd9b5e-9d27-4db0-bbfc-2703bd5934db"
      },
      "cell_type": "code",
      "source": [
        "import numpy as np\n",
        "import pandas as pd\n",
        "from sklearn import preprocessing\n",
        "from collections import deque\n",
        "import random\n",
        "import time\n",
        "from keras.models import Sequential\n",
        "from keras.layers import CuDNNLSTM, Dense, Dropout, BatchNormalization, LSTM\n",
        "from keras.callbacks import TensorBoard, ModelCheckpoint\n",
        "import tensorflow as tf\n",
        "from keras.optimizers import Adam"
      ],
      "execution_count": 4,
      "outputs": [
        {
          "output_type": "stream",
          "text": [
            "Using TensorFlow backend.\n"
          ],
          "name": "stderr"
        }
      ]
    },
    {
      "metadata": {
        "ExecuteTime": {
          "end_time": "2019-01-01T16:09:56.476673Z",
          "start_time": "2019-01-01T16:09:56.466727Z"
        },
        "id": "hk_cOHkt3S_l",
        "colab_type": "code",
        "colab": {}
      },
      "cell_type": "code",
      "source": [
        "SEQ_LEN = 60\n",
        "FUTURE_PERIOD_PREDICT = 10\n",
        "RATIO_TO_PREDICT = 'BTC-USD'\n",
        "EPOCHS = 100\n",
        "BATCH_SIZE = 64\n",
        "NAME = RATIO_TO_PREDICT + '-' + str(SEQ_LEN) + \"-SEQ-\" + str(FUTURE_PERIOD_PREDICT) + \"-PRED-\" + str(int(time.time()))"
      ],
      "execution_count": 0,
      "outputs": []
    },
    {
      "metadata": {
        "ExecuteTime": {
          "end_time": "2019-01-01T16:08:45.118604Z",
          "start_time": "2019-01-01T16:08:45.114550Z"
        },
        "id": "0bcCmcTh3S_w",
        "colab_type": "code",
        "colab": {}
      },
      "cell_type": "code",
      "source": [
        "# main_df = pd.DataFrame()\n",
        "\n",
        "# ratios = ['stratis', 'monero', 'waves', 'bitcoin', 'litecoin',\n",
        "#           'numeraire', 'dash', 'omisego', 'bitcoin_cash', 'ethereum_classic',\n",
        "#           'ripple', 'ethereum', 'bitconnect', 'nem', 'iota', 'neo',\n",
        "#           'qtum']"
      ],
      "execution_count": 0,
      "outputs": []
    },
    {
      "metadata": {
        "ExecuteTime": {
          "end_time": "2019-01-01T16:08:45.804559Z",
          "start_time": "2019-01-01T16:08:45.632397Z"
        },
        "id": "oUwBeGRH3S_4",
        "colab_type": "code",
        "colab": {}
      },
      "cell_type": "code",
      "source": [
        "# for ratio in ratios:\n",
        "#     dataset = \"dataset/\" + ratio + '_price' + \".csv\"\n",
        "    \n",
        "#     df = pd.read_csv(dataset)\n",
        "    \n",
        "#     df.rename(columns={'Close': ratio + '_Close', 'Volume': ratio + '_Volume'}, inplace=True)\n",
        "    \n",
        "#     df.set_index('Date', inplace=True)\n",
        "#     df = df[[ratio + '_Close', ratio + '_Volume']]\n",
        "    \n",
        "#     if len(main_df) == 0:\n",
        "#         main_df = df\n",
        "#     else:\n",
        "#         main_df = main_df.join(df)"
      ],
      "execution_count": 0,
      "outputs": []
    },
    {
      "metadata": {
        "ExecuteTime": {
          "end_time": "2019-01-01T16:09:03.899968Z",
          "start_time": "2019-01-01T16:09:03.897139Z"
        },
        "id": "tYqcUVD53S_-",
        "colab_type": "code",
        "colab": {}
      },
      "cell_type": "code",
      "source": [
        "main_df = pd.DataFrame() # begin empty\n",
        "\n",
        "ratios = [\"BTC-USD\", \"LTC-USD\", \"BCH-USD\", \"ETH-USD\"] "
      ],
      "execution_count": 0,
      "outputs": []
    },
    {
      "metadata": {
        "ExecuteTime": {
          "end_time": "2019-01-01T16:09:04.661438Z",
          "start_time": "2019-01-01T16:09:04.652872Z"
        },
        "id": "tzpQfVY23TAF",
        "colab_type": "code",
        "colab": {}
      },
      "cell_type": "code",
      "source": [
        "for ratio in ratios:\n",
        "    dataset = \"dataset2/\" + ratio + \".csv\"\n",
        "    \n",
        "    df = pd.read_csv(dataset, names=['time', 'low', 'high', 'open', 'Close', 'Volume'])\n",
        "    \n",
        "    df.rename(columns={'Close': ratio + '_Close', 'Volume': ratio + '_Volume'}, inplace=True)\n",
        "    \n",
        "    df.set_index('time', inplace=True)\n",
        "    df = df[[ratio + '_Close', ratio + '_Volume']]\n",
        "    \n",
        "    if len(main_df) == 0:\n",
        "        main_df = df\n",
        "    else:\n",
        "        main_df = main_df.join(df)"
      ],
      "execution_count": 0,
      "outputs": []
    },
    {
      "metadata": {
        "ExecuteTime": {
          "end_time": "2019-01-01T16:09:05.444424Z",
          "start_time": "2019-01-01T16:09:05.382545Z"
        },
        "scrolled": true,
        "id": "hRFZJKN83TAN",
        "colab_type": "code",
        "colab": {
          "base_uri": "https://localhost:8080/",
          "height": 287
        },
        "outputId": "e00ba784-7894-4dc0-db31-f61c1addd9c5"
      },
      "cell_type": "code",
      "source": [
        "print(main_df.head())"
      ],
      "execution_count": 10,
      "outputs": [
        {
          "output_type": "stream",
          "text": [
            "            BTC-USD_Close  BTC-USD_Volume  LTC-USD_Close  LTC-USD_Volume  \\\n",
            "time                                                                       \n",
            "1528968660    6489.549805        0.587100      96.580002        9.647200   \n",
            "1528968720    6487.379883        7.706374      96.660004      314.387024   \n",
            "1528968780    6479.410156        3.088252      96.570000       77.129799   \n",
            "1528968840    6479.410156        1.404100      96.500000        7.216067   \n",
            "1528968900    6479.979980        0.753000      96.389999      524.539978   \n",
            "\n",
            "            BCH-USD_Close  BCH-USD_Volume  ETH-USD_Close  ETH-USD_Volume  \n",
            "time                                                                      \n",
            "1528968660     871.719971        5.675361            NaN             NaN  \n",
            "1528968720     870.859985       26.856577      486.01001       26.019083  \n",
            "1528968780     870.099976        1.124300      486.00000        8.449400  \n",
            "1528968840     870.789978        1.749862      485.75000       26.994646  \n",
            "1528968900     870.000000        1.680500      486.00000       77.355759  \n"
          ],
          "name": "stdout"
        }
      ]
    },
    {
      "metadata": {
        "ExecuteTime": {
          "end_time": "2019-01-01T16:09:07.857637Z",
          "start_time": "2019-01-01T16:09:07.853789Z"
        },
        "id": "uXs7ipJ83TAR",
        "colab_type": "code",
        "colab": {
          "base_uri": "https://localhost:8080/",
          "height": 71
        },
        "outputId": "292bd487-c708-4aaf-9c1e-b0d67e9f45e9"
      },
      "cell_type": "code",
      "source": [
        "print(main_df.columns)"
      ],
      "execution_count": 11,
      "outputs": [
        {
          "output_type": "stream",
          "text": [
            "Index(['BTC-USD_Close', 'BTC-USD_Volume', 'LTC-USD_Close', 'LTC-USD_Volume',\n",
            "       'BCH-USD_Close', 'BCH-USD_Volume', 'ETH-USD_Close', 'ETH-USD_Volume'],\n",
            "      dtype='object')\n"
          ],
          "name": "stdout"
        }
      ]
    },
    {
      "metadata": {
        "ExecuteTime": {
          "end_time": "2019-01-01T16:09:09.993108Z",
          "start_time": "2019-01-01T16:09:09.990372Z"
        },
        "id": "Yu9RHrkE3TAV",
        "colab_type": "code",
        "colab": {}
      },
      "cell_type": "code",
      "source": [
        "def classify(current, future):\n",
        "    if float(future) > float(current):\n",
        "        return 1\n",
        "    else:\n",
        "        return 0"
      ],
      "execution_count": 0,
      "outputs": []
    },
    {
      "metadata": {
        "ExecuteTime": {
          "end_time": "2019-01-01T16:10:02.189120Z",
          "start_time": "2019-01-01T16:10:02.144386Z"
        },
        "id": "Z-e1CgLz3TAX",
        "colab_type": "code",
        "colab": {
          "base_uri": "https://localhost:8080/",
          "height": 431
        },
        "outputId": "e409eb46-341f-4a43-fdb9-7a51b1ba5c85"
      },
      "cell_type": "code",
      "source": [
        "main_df['future'] = main_df[RATIO_TO_PREDICT + '_Close'].shift(- FUTURE_PERIOD_PREDICT)\n",
        "print(main_df.head())"
      ],
      "execution_count": 13,
      "outputs": [
        {
          "output_type": "stream",
          "text": [
            "            BTC-USD_Close  BTC-USD_Volume  LTC-USD_Close  LTC-USD_Volume  \\\n",
            "time                                                                       \n",
            "1528968660    6489.549805        0.587100      96.580002        9.647200   \n",
            "1528968720    6487.379883        7.706374      96.660004      314.387024   \n",
            "1528968780    6479.410156        3.088252      96.570000       77.129799   \n",
            "1528968840    6479.410156        1.404100      96.500000        7.216067   \n",
            "1528968900    6479.979980        0.753000      96.389999      524.539978   \n",
            "\n",
            "            BCH-USD_Close  BCH-USD_Volume  ETH-USD_Close  ETH-USD_Volume  \\\n",
            "time                                                                       \n",
            "1528968660     871.719971        5.675361            NaN             NaN   \n",
            "1528968720     870.859985       26.856577      486.01001       26.019083   \n",
            "1528968780     870.099976        1.124300      486.00000        8.449400   \n",
            "1528968840     870.789978        1.749862      485.75000       26.994646   \n",
            "1528968900     870.000000        1.680500      486.00000       77.355759   \n",
            "\n",
            "                 future  \n",
            "time                     \n",
            "1528968660  6478.660156  \n",
            "1528968720  6479.339844  \n",
            "1528968780  6479.350098  \n",
            "1528968840  6479.990234  \n",
            "1528968900  6481.890137  \n"
          ],
          "name": "stdout"
        }
      ]
    },
    {
      "metadata": {
        "ExecuteTime": {
          "end_time": "2019-01-01T16:05:35.679978Z",
          "start_time": "2019-01-01T16:05:35.587743Z"
        },
        "id": "MzomXmsg3TAb",
        "colab_type": "code",
        "colab": {
          "base_uri": "https://localhost:8080/",
          "height": 143
        },
        "outputId": "8cb7f1c2-595f-4aa9-b9cb-ce0048b6cd3b"
      },
      "cell_type": "code",
      "source": [
        "print(main_df[[RATIO_TO_PREDICT + '_Close', 'future']].head())"
      ],
      "execution_count": 14,
      "outputs": [
        {
          "output_type": "stream",
          "text": [
            "            BTC-USD_Close       future\n",
            "time                                  \n",
            "1528968660    6489.549805  6478.660156\n",
            "1528968720    6487.379883  6479.339844\n",
            "1528968780    6479.410156  6479.350098\n",
            "1528968840    6479.410156  6479.990234\n",
            "1528968900    6479.979980  6481.890137\n"
          ],
          "name": "stdout"
        }
      ]
    },
    {
      "metadata": {
        "ExecuteTime": {
          "end_time": "2019-01-01T16:10:07.190640Z",
          "start_time": "2019-01-01T16:10:07.186619Z"
        },
        "id": "Zqk42yX-3TAe",
        "colab_type": "code",
        "colab": {}
      },
      "cell_type": "code",
      "source": [
        "main_df['target'] = list(map(classify, main_df[RATIO_TO_PREDICT + '_Close'], main_df['future']))"
      ],
      "execution_count": 0,
      "outputs": []
    },
    {
      "metadata": {
        "ExecuteTime": {
          "end_time": "2019-01-01T16:10:11.512741Z",
          "start_time": "2019-01-01T16:10:11.502863Z"
        },
        "id": "8NJ7xgbc3TAf",
        "colab_type": "code",
        "colab": {
          "base_uri": "https://localhost:8080/",
          "height": 413
        },
        "outputId": "4ec4fbaa-cad1-4a46-f529-61ef3edd192e"
      },
      "cell_type": "code",
      "source": [
        "print(main_df[[RATIO_TO_PREDICT + '_Close', 'future', 'target']].head(20))"
      ],
      "execution_count": 16,
      "outputs": [
        {
          "output_type": "stream",
          "text": [
            "            BTC-USD_Close       future  target\n",
            "time                                          \n",
            "1528968660    6489.549805  6478.660156       0\n",
            "1528968720    6487.379883  6479.339844       0\n",
            "1528968780    6479.410156  6479.350098       0\n",
            "1528968840    6479.410156  6479.990234       1\n",
            "1528968900    6479.979980  6481.890137       1\n",
            "1528968960    6480.000000  6484.709961       1\n",
            "1528969020    6477.220215  6484.709961       1\n",
            "1528969080    6480.000000  6485.000000       1\n",
            "1528969140    6479.990234  6485.000000       1\n",
            "1528969200    6478.660156  6485.000000       1\n",
            "1528969260    6478.660156  6489.990234       1\n",
            "1528969320    6479.339844  6486.359863       1\n",
            "1528969380    6479.350098  6487.259766       1\n",
            "1528969440    6479.990234  6487.270020       1\n",
            "1528969500    6481.890137  6490.000000       1\n",
            "1528969560    6484.709961  6490.000000       1\n",
            "1528969620    6484.709961  6492.680176       1\n",
            "1528969680    6485.000000  6494.990234       1\n",
            "1528969740    6485.000000  6494.450195       1\n",
            "1528969800    6485.000000  6494.990234       1\n"
          ],
          "name": "stdout"
        }
      ]
    },
    {
      "metadata": {
        "ExecuteTime": {
          "end_time": "2019-01-01T16:10:15.077757Z",
          "start_time": "2019-01-01T16:10:15.073201Z"
        },
        "id": "sWEFQ9rb3TAm",
        "colab_type": "code",
        "colab": {}
      },
      "cell_type": "code",
      "source": [
        "times = sorted(main_df.index.values)\n",
        "last_5_pct = times[-int(0.05 * len(times))]"
      ],
      "execution_count": 0,
      "outputs": []
    },
    {
      "metadata": {
        "ExecuteTime": {
          "end_time": "2019-01-01T16:10:15.661641Z",
          "start_time": "2019-01-01T16:10:15.644780Z"
        },
        "id": "tv3pV_qO3TAn",
        "colab_type": "code",
        "colab": {}
      },
      "cell_type": "code",
      "source": [
        "validation_main_df = main_df[(main_df.index >= last_5_pct)]\n",
        "main_df = main_df[(main_df.index < last_5_pct)]"
      ],
      "execution_count": 0,
      "outputs": []
    },
    {
      "metadata": {
        "ExecuteTime": {
          "end_time": "2019-01-01T16:10:17.218350Z",
          "start_time": "2019-01-01T16:10:17.212131Z"
        },
        "id": "8LIKnj823TAs",
        "colab_type": "code",
        "colab": {}
      },
      "cell_type": "code",
      "source": [
        "def preprocess_df(df):\n",
        "    df = df.drop('future', 1)\n",
        "    \n",
        "    for col in df.columns:\n",
        "        if col != 'target':\n",
        "            df[col] = df[col].replace(',','').astype(float).pct_change()\n",
        "            df.dropna(inplace = True)\n",
        "            \n",
        "            df[col] = preprocessing.scale(df[col].values)\n",
        "            \n",
        "    df.dropna(inplace = True)\n",
        "    \n",
        "    sequential_data = []\n",
        "    prev_days = deque(maxlen = SEQ_LEN)\n",
        "    \n",
        "    for i in df.values:\n",
        "        prev_days.append([n for n in i[:-1]])\n",
        "        if len(prev_days) == SEQ_LEN:\n",
        "            sequential_data.append([np.array(prev_days), i[-1]])\n",
        "    \n",
        "    random.shuffle(sequential_data)\n",
        "    \n",
        "    buys = []\n",
        "    sells = []\n",
        "    \n",
        "    for seq, target in sequential_data:\n",
        "        if target == 0:\n",
        "            sells.append([seq, target])\n",
        "        elif target == 1:\n",
        "            buys.append([seq, target])\n",
        "            \n",
        "    random.shuffle(buys)\n",
        "    random.shuffle(sells)\n",
        "    \n",
        "    lower = min(len(buys), len(sells))\n",
        "    \n",
        "    buys = buys[:lower]\n",
        "    sells = sells[:lower]\n",
        "    \n",
        "    sequential_data = buys + sells\n",
        "    \n",
        "    random.shuffle(sequential_data)\n",
        "    \n",
        "    X = []\n",
        "    y = []\n",
        "    \n",
        "    for seq, target in sequential_data:\n",
        "        X.append(seq)\n",
        "        y.append(target)\n",
        "        \n",
        "    return np.array(X), y"
      ],
      "execution_count": 0,
      "outputs": []
    },
    {
      "metadata": {
        "ExecuteTime": {
          "end_time": "2019-01-01T16:10:18.546108Z",
          "start_time": "2019-01-01T16:10:18.304565Z"
        },
        "id": "fhDh0J6W3TAv",
        "colab_type": "code",
        "colab": {}
      },
      "cell_type": "code",
      "source": [
        "train_x, train_y = preprocess_df(main_df)\n",
        "validation_x, validation_y = preprocess_df(main_df)"
      ],
      "execution_count": 0,
      "outputs": []
    },
    {
      "metadata": {
        "ExecuteTime": {
          "end_time": "2019-01-01T16:10:18.741472Z",
          "start_time": "2019-01-01T16:10:18.735062Z"
        },
        "id": "h18YxlLW3TAy",
        "colab_type": "code",
        "colab": {
          "base_uri": "https://localhost:8080/",
          "height": 71
        },
        "outputId": "aedae874-a60f-45cd-ee6f-3f50f07c1bfb"
      },
      "cell_type": "code",
      "source": [
        "print(\"Train Data: \" + str(len(train_x)), \"Validation Data: \" + str(len(validation_x)))\n",
        "print(\"Don't Buys: \" + str(train_y.count(0)), \"Buys: \" + str(validation_y.count(1)))\n",
        "print(\"Validation Don't Buys: \" + str(validation_y.count(0)), \"Buys: \" + str(validation_y.count(1)))"
      ],
      "execution_count": 21,
      "outputs": [
        {
          "output_type": "stream",
          "text": [
            "Train Data: 80444 Validation Data: 80444\n",
            "Don't Buys: 40222 Buys: 40222\n",
            "Validation Don't Buys: 40222 Buys: 40222\n"
          ],
          "name": "stdout"
        }
      ]
    },
    {
      "metadata": {
        "ExecuteTime": {
          "end_time": "2019-01-01T16:05:52.258102Z",
          "start_time": "2019-01-01T16:05:46.053390Z"
        },
        "scrolled": true,
        "id": "3uFBnAuD3TA1",
        "colab_type": "code",
        "colab": {
          "base_uri": "https://localhost:8080/",
          "height": 1727
        },
        "outputId": "ae5c443a-2c4a-4852-fbb2-7cbe2a74287e"
      },
      "cell_type": "code",
      "source": [
        "model = Sequential()\n",
        "\n",
        "model.add(CuDNNLSTM(128, input_shape = (train_x.shape[1:]), return_sequences=True))\n",
        "model.add(Dropout(0.2))\n",
        "model.add(BatchNormalization())\n",
        "\n",
        "model.add(CuDNNLSTM(128, input_shape = (train_x.shape[1:]), return_sequences=True))\n",
        "model.add(Dropout(0.2))\n",
        "model.add(BatchNormalization())\n",
        "\n",
        "model.add(CuDNNLSTM(128, input_shape = (train_x.shape[1:])))\n",
        "model.add(Dropout(0.2))\n",
        "model.add(BatchNormalization())\n",
        "\n",
        "model.add(Dense(32, activation='relu'))\n",
        "model.add(Dropout(0.2))\n",
        "\n",
        "model.add(Dense(2, activation='softmax'))\n",
        "\n",
        "opt = Adam(lr=0.001, decay=1e-6)\n",
        "\n",
        "model.compile(loss='sparse_categorical_crossentropy',\n",
        "              optimizer = opt,\n",
        "              metrics = ['accuracy'])\n",
        "\n",
        "tensorboard = TensorBoard(log_dir = 'logs/' + NAME)\n",
        "\n",
        "filepath = 'RNN_Final'\n",
        "checkpoint = ModelCheckpoint('models/{}.model'.format(filepath, monitor='val_acc',\n",
        "                                                      verbose=1,\n",
        "                                                      save_best_only = True,\n",
        "                                                      mode = 'max'))\n",
        "\n",
        "history =  model.fit(train_x, train_y,\n",
        "                     batch_size = BATCH_SIZE,\n",
        "                     epochs = EPOCHS,\n",
        "                     validation_data = (validation_x, validation_y),\n",
        "                     callbacks = [tensorboard, checkpoint])"
      ],
      "execution_count": 22,
      "outputs": [
        {
          "output_type": "stream",
          "text": [
            "Train on 80444 samples, validate on 80444 samples\n",
            "Epoch 1/100\n",
            "80444/80444 [==============================] - 106s 1ms/step - loss: 0.7082 - acc: 0.5325 - val_loss: 0.6929 - val_acc: 0.5200\n",
            "Epoch 2/100\n",
            "80444/80444 [==============================] - 93s 1ms/step - loss: 0.6835 - acc: 0.5575 - val_loss: 0.6778 - val_acc: 0.5712\n",
            "Epoch 3/100\n",
            "80444/80444 [==============================] - 94s 1ms/step - loss: 0.6749 - acc: 0.5766 - val_loss: 0.6726 - val_acc: 0.5813\n",
            "Epoch 4/100\n",
            "80444/80444 [==============================] - 91s 1ms/step - loss: 0.6621 - acc: 0.6003 - val_loss: 0.6341 - val_acc: 0.6338\n",
            "Epoch 5/100\n",
            "80444/80444 [==============================] - 89s 1ms/step - loss: 0.6317 - acc: 0.6408 - val_loss: 0.5920 - val_acc: 0.6809\n",
            "Epoch 6/100\n",
            "80444/80444 [==============================] - 89s 1ms/step - loss: 0.5792 - acc: 0.6921 - val_loss: 0.5217 - val_acc: 0.7366\n",
            "Epoch 7/100\n",
            "80444/80444 [==============================] - 92s 1ms/step - loss: 0.5252 - acc: 0.7351 - val_loss: 0.4686 - val_acc: 0.7738\n",
            "Epoch 8/100\n",
            "80444/80444 [==============================] - 92s 1ms/step - loss: 0.4771 - acc: 0.7707 - val_loss: 0.4143 - val_acc: 0.8033\n",
            "Epoch 9/100\n",
            "80444/80444 [==============================] - 89s 1ms/step - loss: 0.4371 - acc: 0.7966 - val_loss: 0.3624 - val_acc: 0.8405\n",
            "Epoch 10/100\n",
            "80444/80444 [==============================] - 90s 1ms/step - loss: 0.4074 - acc: 0.8174 - val_loss: 0.3370 - val_acc: 0.8517\n",
            "Epoch 11/100\n",
            "80444/80444 [==============================] - 88s 1ms/step - loss: 0.3831 - acc: 0.8296 - val_loss: 0.3094 - val_acc: 0.8669\n",
            "Epoch 12/100\n",
            "80444/80444 [==============================] - 92s 1ms/step - loss: 0.3595 - acc: 0.8412 - val_loss: 0.2825 - val_acc: 0.8800\n",
            "Epoch 13/100\n",
            "80444/80444 [==============================] - 89s 1ms/step - loss: 0.3432 - acc: 0.8514 - val_loss: 0.2781 - val_acc: 0.8820\n",
            "Epoch 14/100\n",
            "80444/80444 [==============================] - 89s 1ms/step - loss: 0.3295 - acc: 0.8584 - val_loss: 0.2630 - val_acc: 0.8912\n",
            "Epoch 15/100\n",
            "80444/80444 [==============================] - 85s 1ms/step - loss: 0.3198 - acc: 0.8621 - val_loss: 0.2524 - val_acc: 0.8966\n",
            "Epoch 16/100\n",
            "80444/80444 [==============================] - 89s 1ms/step - loss: 0.3103 - acc: 0.8677 - val_loss: 0.2333 - val_acc: 0.9044\n",
            "Epoch 17/100\n",
            "80444/80444 [==============================] - 93s 1ms/step - loss: 0.3017 - acc: 0.8727 - val_loss: 0.2291 - val_acc: 0.9068\n",
            "Epoch 18/100\n",
            "80444/80444 [==============================] - 89s 1ms/step - loss: 0.2920 - acc: 0.8767 - val_loss: 0.2175 - val_acc: 0.9112\n",
            "Epoch 19/100\n",
            "80444/80444 [==============================] - 88s 1ms/step - loss: 0.2864 - acc: 0.8792 - val_loss: 0.2128 - val_acc: 0.9143\n",
            "Epoch 20/100\n",
            "80444/80444 [==============================] - 89s 1ms/step - loss: 0.2789 - acc: 0.8822 - val_loss: 0.2091 - val_acc: 0.9163\n",
            "Epoch 21/100\n",
            "80444/80444 [==============================] - 88s 1ms/step - loss: 0.2729 - acc: 0.8854 - val_loss: 0.1925 - val_acc: 0.9227\n",
            "Epoch 22/100\n",
            "80444/80444 [==============================] - 90s 1ms/step - loss: 0.2691 - acc: 0.8873 - val_loss: 0.1959 - val_acc: 0.9212\n",
            "Epoch 23/100\n",
            "80444/80444 [==============================] - 92s 1ms/step - loss: 0.2685 - acc: 0.8875 - val_loss: 0.1858 - val_acc: 0.9255\n",
            "Epoch 24/100\n",
            "80444/80444 [==============================] - 89s 1ms/step - loss: 0.2630 - acc: 0.8908 - val_loss: 0.1818 - val_acc: 0.9285\n",
            "Epoch 25/100\n",
            "80444/80444 [==============================] - 92s 1ms/step - loss: 0.2518 - acc: 0.8947 - val_loss: 0.1845 - val_acc: 0.9277\n",
            "Epoch 26/100\n",
            "80444/80444 [==============================] - 92s 1ms/step - loss: 0.2507 - acc: 0.8952 - val_loss: 0.1783 - val_acc: 0.9278\n",
            "Epoch 27/100\n",
            "80444/80444 [==============================] - 91s 1ms/step - loss: 0.2494 - acc: 0.8961 - val_loss: 0.1744 - val_acc: 0.9325\n",
            "Epoch 28/100\n",
            "80444/80444 [==============================] - 91s 1ms/step - loss: 0.2442 - acc: 0.8983 - val_loss: 0.1744 - val_acc: 0.9285\n",
            "Epoch 29/100\n",
            "80444/80444 [==============================] - 91s 1ms/step - loss: 0.2422 - acc: 0.8980 - val_loss: 0.1755 - val_acc: 0.9289\n",
            "Epoch 30/100\n",
            "80444/80444 [==============================] - 91s 1ms/step - loss: 0.2408 - acc: 0.9006 - val_loss: 0.1661 - val_acc: 0.9334\n",
            "Epoch 31/100\n",
            "80444/80444 [==============================] - 91s 1ms/step - loss: 0.2338 - acc: 0.9033 - val_loss: 0.1624 - val_acc: 0.9343\n",
            "Epoch 32/100\n",
            "80444/80444 [==============================] - 92s 1ms/step - loss: 0.2315 - acc: 0.9049 - val_loss: 0.1626 - val_acc: 0.9333\n",
            "Epoch 33/100\n",
            "80444/80444 [==============================] - 90s 1ms/step - loss: 0.2312 - acc: 0.9038 - val_loss: 0.1672 - val_acc: 0.9310\n",
            "Epoch 34/100\n",
            "80444/80444 [==============================] - 92s 1ms/step - loss: 0.2265 - acc: 0.9062 - val_loss: 0.1557 - val_acc: 0.9379\n",
            "Epoch 35/100\n",
            "80444/80444 [==============================] - 89s 1ms/step - loss: 0.2254 - acc: 0.9071 - val_loss: 0.1543 - val_acc: 0.9382\n",
            "Epoch 36/100\n",
            "80444/80444 [==============================] - 90s 1ms/step - loss: 0.2227 - acc: 0.9096 - val_loss: 0.1516 - val_acc: 0.9406\n",
            "Epoch 37/100\n",
            "80444/80444 [==============================] - 92s 1ms/step - loss: 0.2200 - acc: 0.9086 - val_loss: 0.1471 - val_acc: 0.9425\n",
            "Epoch 38/100\n",
            "80444/80444 [==============================] - 94s 1ms/step - loss: 0.2194 - acc: 0.9080 - val_loss: 0.1489 - val_acc: 0.9403\n",
            "Epoch 39/100\n",
            "80444/80444 [==============================] - 90s 1ms/step - loss: 0.2158 - acc: 0.9110 - val_loss: 0.1385 - val_acc: 0.9470\n",
            "Epoch 40/100\n",
            "80444/80444 [==============================] - 93s 1ms/step - loss: 0.2129 - acc: 0.9119 - val_loss: 0.1485 - val_acc: 0.9413\n",
            "Epoch 41/100\n",
            "80444/80444 [==============================] - 89s 1ms/step - loss: 0.2098 - acc: 0.9125 - val_loss: 0.1412 - val_acc: 0.9440\n",
            "Epoch 42/100\n",
            "80444/80444 [==============================] - 92s 1ms/step - loss: 0.2090 - acc: 0.9137 - val_loss: 0.1351 - val_acc: 0.9473\n",
            "Epoch 43/100\n",
            "80444/80444 [==============================] - 91s 1ms/step - loss: 0.2063 - acc: 0.9150 - val_loss: 0.1372 - val_acc: 0.9464\n",
            "Epoch 44/100\n",
            "80444/80444 [==============================] - 91s 1ms/step - loss: 0.2086 - acc: 0.9140 - val_loss: 0.1386 - val_acc: 0.9466\n",
            "Epoch 45/100\n",
            "80444/80444 [==============================] - 92s 1ms/step - loss: 0.2024 - acc: 0.9178 - val_loss: 0.1384 - val_acc: 0.9452\n",
            "Epoch 46/100\n",
            "80444/80444 [==============================] - 92s 1ms/step - loss: 0.2037 - acc: 0.9160 - val_loss: 0.1307 - val_acc: 0.9482\n",
            "Epoch 47/100\n",
            "57728/80444 [====================>.........] - ETA: 21s - loss: 0.1987 - acc: 0.9180Buffered data was truncated after reaching the output size limit."
          ],
          "name": "stdout"
        }
      ]
    },
    {
      "metadata": {
        "id": "hhMBt4t93TA3",
        "colab_type": "code",
        "colab": {
          "base_uri": "https://localhost:8080/",
          "height": 35
        },
        "outputId": "d2b219e4-25d5-4315-df7c-877ded166434"
      },
      "cell_type": "code",
      "source": [
        "model_json = model.to_json()\n",
        "with open(\"models/model_json.json\", \"w\") as json_file:\n",
        "    json_file.write(model_json)\n",
        "# serialize weights to HDF5\n",
        "model.save_weights(\"models/model_weights.h5\")\n",
        "print(\"Saved model to disk\")\n",
        "\n",
        "import json\n",
        "with open('models/history.json', 'w') as f:\n",
        "    json.dump(history.history, f)"
      ],
      "execution_count": 23,
      "outputs": [
        {
          "output_type": "stream",
          "text": [
            "Saved model to disk\n"
          ],
          "name": "stdout"
        }
      ]
    }
  ]
}